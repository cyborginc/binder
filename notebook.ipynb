{
 "cells": [
  {
   "cell_type": "code",
   "execution_count": null,
   "id": "cd9b1679",
   "metadata": {
    "vscode": {
     "languageId": "plaintext"
    }
   },
   "outputs": [],
   "source": [
    "# In a terminal block or notebook cell with %%bash\n",
    "!sudo apt-get update\n",
    "!sudo apt-get install -y redis-server\n",
    "\n",
    "# Start Redis\n",
    "!sudo service redis-server start\n"
   ]
  },
  {
   "cell_type": "code",
   "execution_count": null,
   "id": "d428a575",
   "metadata": {
    "vscode": {
     "languageId": "plaintext"
    }
   },
   "outputs": [],
   "source": [
    "# Check if running\n",
    "!redis-cli ping"
   ]
  }
 ],
 "metadata": {
  "language_info": {
   "name": "python"
  }
 },
 "nbformat": 4,
 "nbformat_minor": 5
}
