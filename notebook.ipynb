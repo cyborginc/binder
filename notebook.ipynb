{
 "cells": [
  {
   "cell_type": "markdown",
   "metadata": {},
   "source": [
    "# CyborgDB-Lite Demo\n",
    "\n",
    "A simple demonstration of cyborgdb-lite using randomly generated vectors."
   ]
  },
  {
   "cell_type": "code",
   "execution_count": null,
   "metadata": {},
   "outputs": [],
   "source": [
    "# Install cyborgdb-lite\n",
    "!pip install cyborgdb-lite"
   ]
  },
  {
   "cell_type": "code",
   "execution_count": null,
   "metadata": {},
   "outputs": [],
   "source": [
    "# Import dependencies\n",
    "import cyborgdb_lite as cyborgdb\n",
    "import numpy as np"
   ]
  },
  {
   "cell_type": "code",
   "execution_count": null,
   "metadata": {},
   "outputs": [],
   "source": [
    "# Generate random vectors\n",
    "dimension = 128\n",
    "num_vectors = 1000\n",
    "num_queries = 5\n",
    "\n",
    "# Random training vectors\n",
    "train_vectors = np.random.rand(num_vectors, dimension).astype(np.float32)\n",
    "\n",
    "# Random query vectors\n",
    "query_vectors = np.random.rand(num_queries, dimension).astype(np.float32)\n",
    "\n",
    "print(f\"Generated {num_vectors} training vectors of dimension {dimension}\")\n",
    "print(f\"Generated {num_queries} query vectors\")"
   ]
  },
  {
   "cell_type": "code",
   "execution_count": null,
   "metadata": {},
   "outputs": [],
   "source": [
    "# Create CyborgDB client and index\n",
    "index_location = cyborgdb.DBConfig(\"memory\", \"index_table\")\n",
    "config_location = cyborgdb.DBConfig(\"memory\", \"config_table\")\n",
    "items_location = cyborgdb.DBConfig(\"memory\", \"items_table\")\n",
    "\n",
    "client = cyborgdb.Client(\n",
    "    api_key=\"\",\n",
    "    index_location=index_location,\n",
    "    config_location=config_location,\n",
    "    items_location=items_location\n",
    ")\n",
    "\n",
    "# Create flat index\n",
    "index_config = cyborgdb.IndexFlat(dimension)\n",
    "index_key = np.array([1, 2, 3, 4, 5, 6, 7, 8, 9, 10, 11, 12, 13, 14, 15, 16,\n",
    "                      17, 18, 19, 20, 21, 22, 23, 24, 25, 26, 27, 28, 29, 30, 31, 32], dtype=np.uint8)\n",
    "\n",
    "index = client.create_index(\"demo_index\", index_key, index_config)\n",
    "print(f\"Created index with dimension {dimension}\")"
   ]
  },
  {
   "cell_type": "code",
   "execution_count": null,
   "metadata": {},
   "outputs": [],
   "source": [
    "# Upsert vectors\n",
    "payload = [\n",
    "    {\"id\": str(i), \"vector\": train_vectors[i].tolist()}\n",
    "    for i in range(num_vectors)\n",
    "]\n",
    "\n",
    "index.upsert(payload)\n",
    "print(f\"Upserted {len(payload)} vectors\")"
   ]
  },
  {
   "cell_type": "code",
   "execution_count": null,
   "metadata": {},
   "outputs": [],
   "source": [
    "# Query the index\n",
    "top_k = 5\n",
    "results = index.query(query_vectors, top_k=top_k)\n",
    "\n",
    "print(f\"\\nQuery results (top {top_k} for each query):\\n\")\n",
    "for i, query_results in enumerate(results):\n",
    "    print(f\"Query {i}:\")\n",
    "    for j, result in enumerate(query_results):\n",
    "        print(f\"  {j+1}. ID: {result['id']}, Distance: {result['distance']:.4f}\")\n",
    "    print()"
   ]
  },
  {
   "cell_type": "code",
   "execution_count": null,
   "metadata": {},
   "outputs": [],
   "source": [
    "# Cleanup\n",
    "index.delete_index()\n",
    "print(\"Index deleted\")"
   ]
  }
 ],
 "metadata": {
  "kernelspec": {
   "display_name": "Python 3",
   "language": "python",
   "name": "python3"
  },
  "language_info": {
   "name": "python",
   "version": "3.11.0"
  }
 },
 "nbformat": 4,
 "nbformat_minor": 4
}