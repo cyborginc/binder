{
 "cells": [
  {
   "cell_type": "code",
   "execution_count": null,
   "id": "cd9b1679",
   "metadata": {
    "vscode": {
     "languageId": "plaintext"
    }
   },
   "outputs": [],
   "source": [
    "!pip install redis\n",
    "\n",
    "import redis\n",
    "r = redis.Redis(host='localhost', port=6379, decode_responses=True)\n",
    "r.set('test', 'Hello from Binder!')\n",
    "print(r.get('test'))\n"
   ]
  },
  {
   "cell_type": "code",
   "execution_count": null,
   "id": "d428a575",
   "metadata": {
    "vscode": {
     "languageId": "plaintext"
    }
   },
   "outputs": [],
   "source": []
  }
 ],
 "metadata": {
  "language_info": {
   "name": "python"
  }
 },
 "nbformat": 4,
 "nbformat_minor": 5
}
