{
 "cells": [
  {
   "cell_type": "code",
   "execution_count": null,
   "id": "cd9b1679",
   "metadata": {
    "vscode": {
     "languageId": "plaintext"
    }
   },
   "outputs": [],
   "source": [
    "!pip install redislite\n",
    "\n",
    "import redislite\n",
    "\n",
    "# Create a Redis connection (automatically starts embedded Redis)\n",
    "r = redislite.Redis()\n",
    "\n",
    "# Use it exactly like regular Redis\n",
    "r.set('test_key', 'Hello from redislite!')\n",
    "print(r.get('test_key'))  # b'Hello from redislite!'\n",
    "\n",
    "# Or with decode_responses\n",
    "r = redislite.Redis(decode_responses=True)\n",
    "r.set('name', 'Alexandre')\n",
    "print(r.get('name'))  # 'Alexandre'"
   ]
  },
  {
   "cell_type": "code",
   "execution_count": null,
   "id": "d428a575",
   "metadata": {
    "vscode": {
     "languageId": "plaintext"
    }
   },
   "outputs": [],
   "source": []
  }
 ],
 "metadata": {
  "language_info": {
   "name": "python"
  }
 },
 "nbformat": 4,
 "nbformat_minor": 5
}
